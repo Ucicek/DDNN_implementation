{
 "cells": [
  {
   "cell_type": "code",
   "execution_count": 119,
   "metadata": {},
   "outputs": [
    {
     "data": {
      "text/plain": [
       "\"'\\n@inproceedings{teerapittayanon2017distributed,\\n  title={Distributed deep neural networks over the cloud, the edge and end devices},\\n  author={Teerapittayanon, Surat and McDanel, Bradley and Kung, Hsiang-Tsung},\\n  booktitle={2017 IEEE 37th international conference on distributed computing systems (ICDCS)},\\n  pages={328--339},\\n  year={2017},\\n  organization={IEEE}\\n}\\n\""
      ]
     },
     "execution_count": 119,
     "metadata": {},
     "output_type": "execute_result"
    }
   ],
   "source": [
    "# citing the paper\n",
    "''''\n",
    "@inproceedings{teerapittayanon2017distributed,\n",
    "  title={Distributed deep neural networks over the cloud, the edge and end devices},\n",
    "  author={Teerapittayanon, Surat and McDanel, Bradley and Kung, Hsiang-Tsung},\n",
    "  booktitle={2017 IEEE 37th international conference on distributed computing systems (ICDCS)},\n",
    "  pages={328--339},\n",
    "  year={2017},\n",
    "  organization={IEEE}\n",
    "}\n",
    "'''\n"
   ]
  },
  {
   "cell_type": "code",
   "execution_count": 2,
   "metadata": {},
   "outputs": [],
   "source": [
    "import pandas as pd # to read .csv files"
   ]
  },
  {
   "cell_type": "code",
   "execution_count": 158,
   "metadata": {},
   "outputs": [
    {
     "data": {
      "text/html": [
       "<div>\n",
       "<style scoped>\n",
       "    .dataframe tbody tr th:only-of-type {\n",
       "        vertical-align: middle;\n",
       "    }\n",
       "\n",
       "    .dataframe tbody tr th {\n",
       "        vertical-align: top;\n",
       "    }\n",
       "\n",
       "    .dataframe thead th {\n",
       "        text-align: right;\n",
       "    }\n",
       "</style>\n",
       "<table border=\"1\" class=\"dataframe\">\n",
       "  <thead>\n",
       "    <tr style=\"text-align: right;\">\n",
       "      <th></th>\n",
       "      <th>Image_Path</th>\n",
       "      <th>Brand</th>\n",
       "      <th>Model</th>\n",
       "      <th>Edition</th>\n",
       "      <th>Year</th>\n",
       "      <th>Condition</th>\n",
       "      <th>Transmission</th>\n",
       "      <th>Body</th>\n",
       "      <th>Fuel</th>\n",
       "      <th>Capacity</th>\n",
       "    </tr>\n",
       "  </thead>\n",
       "  <tbody>\n",
       "    <tr>\n",
       "      <th>0</th>\n",
       "      <td>vehicle_images/1633889154186_Toyota Hilux 2006...</td>\n",
       "      <td>Toyota</td>\n",
       "      <td>Hilux</td>\n",
       "      <td>Hilux</td>\n",
       "      <td>2006</td>\n",
       "      <td>Used</td>\n",
       "      <td>Manual</td>\n",
       "      <td>SUV / 4x4</td>\n",
       "      <td>Diesel</td>\n",
       "      <td>2,500 cc</td>\n",
       "    </tr>\n",
       "    <tr>\n",
       "      <th>1</th>\n",
       "      <td>vehicle_images/1633889154395_Land Rover Freela...</td>\n",
       "      <td>Land Rover</td>\n",
       "      <td>Freelander</td>\n",
       "      <td>1999</td>\n",
       "      <td>1999</td>\n",
       "      <td>Used</td>\n",
       "      <td>Manual</td>\n",
       "      <td>SUV / 4x4</td>\n",
       "      <td>Diesel</td>\n",
       "      <td>1,990 cc</td>\n",
       "    </tr>\n",
       "    <tr>\n",
       "      <th>2</th>\n",
       "      <td>vehicle_images/1633889154545_Nissan Leaf G Gra...</td>\n",
       "      <td>Nissan</td>\n",
       "      <td>Leaf</td>\n",
       "      <td>G Grade</td>\n",
       "      <td>2014</td>\n",
       "      <td>Used</td>\n",
       "      <td>Automatic</td>\n",
       "      <td>Hatchback</td>\n",
       "      <td>Electric</td>\n",
       "      <td>70 cc</td>\n",
       "    </tr>\n",
       "    <tr>\n",
       "      <th>3</th>\n",
       "      <td>vehicle_images/1633889154697_Mercedes Benz C20...</td>\n",
       "      <td>Mercedes Benz</td>\n",
       "      <td>C200</td>\n",
       "      <td>C-Cabriolet AMG Line</td>\n",
       "      <td>2016</td>\n",
       "      <td>Used</td>\n",
       "      <td>Automatic</td>\n",
       "      <td>Convertible</td>\n",
       "      <td>Petrol</td>\n",
       "      <td>2,000 cc</td>\n",
       "    </tr>\n",
       "    <tr>\n",
       "      <th>4</th>\n",
       "      <td>vehicle_images/1633889154870_Toyota Vitz 2018 ...</td>\n",
       "      <td>Toyota</td>\n",
       "      <td>Vitz</td>\n",
       "      <td>2018</td>\n",
       "      <td>2018</td>\n",
       "      <td>Used</td>\n",
       "      <td>Automatic</td>\n",
       "      <td>Hatchback</td>\n",
       "      <td>Petrol</td>\n",
       "      <td>1,000 cc</td>\n",
       "    </tr>\n",
       "    <tr>\n",
       "      <th>...</th>\n",
       "      <td>...</td>\n",
       "      <td>...</td>\n",
       "      <td>...</td>\n",
       "      <td>...</td>\n",
       "      <td>...</td>\n",
       "      <td>...</td>\n",
       "      <td>...</td>\n",
       "      <td>...</td>\n",
       "      <td>...</td>\n",
       "      <td>...</td>\n",
       "    </tr>\n",
       "    <tr>\n",
       "      <th>77975</th>\n",
       "      <td>./vehicle_images/1636063962173_Honda Insight Z...</td>\n",
       "      <td>Honda</td>\n",
       "      <td>Insight Ze3</td>\n",
       "      <td>NaN</td>\n",
       "      <td>2012</td>\n",
       "      <td>Used</td>\n",
       "      <td>Automatic</td>\n",
       "      <td>Car</td>\n",
       "      <td>Hybrid</td>\n",
       "      <td>1500</td>\n",
       "    </tr>\n",
       "    <tr>\n",
       "      <th>77976</th>\n",
       "      <td>./vehicle_images/1636063962320_HINO Dutro 2011...</td>\n",
       "      <td>HINO</td>\n",
       "      <td>Dutro</td>\n",
       "      <td>NaN</td>\n",
       "      <td>2011</td>\n",
       "      <td>Recondition</td>\n",
       "      <td>Manual</td>\n",
       "      <td>Unregistered</td>\n",
       "      <td>Diesel</td>\n",
       "      <td>4000</td>\n",
       "    </tr>\n",
       "    <tr>\n",
       "      <th>77977</th>\n",
       "      <td>./vehicle_images/1636063962474_TVS King 2017 T...</td>\n",
       "      <td>TVS</td>\n",
       "      <td>King</td>\n",
       "      <td>NaN</td>\n",
       "      <td>2017</td>\n",
       "      <td>Used</td>\n",
       "      <td>Manual</td>\n",
       "      <td>Three Wheel</td>\n",
       "      <td>Petrol</td>\n",
       "      <td>90</td>\n",
       "    </tr>\n",
       "    <tr>\n",
       "      <th>77978</th>\n",
       "      <td>./vehicle_images/1636063962690_Toyota Vitz 201...</td>\n",
       "      <td>Toyota</td>\n",
       "      <td>Vitz</td>\n",
       "      <td>NaN</td>\n",
       "      <td>2018</td>\n",
       "      <td>Used</td>\n",
       "      <td>Automatic</td>\n",
       "      <td>Car</td>\n",
       "      <td>Petrol</td>\n",
       "      <td>1000</td>\n",
       "    </tr>\n",
       "    <tr>\n",
       "      <th>77979</th>\n",
       "      <td>./vehicle_images/1636063962843_Suzuki Alto 201...</td>\n",
       "      <td>Suzuki</td>\n",
       "      <td>Alto</td>\n",
       "      <td>NaN</td>\n",
       "      <td>2015</td>\n",
       "      <td>Used</td>\n",
       "      <td>Manual</td>\n",
       "      <td>Car</td>\n",
       "      <td>Petrol</td>\n",
       "      <td>800</td>\n",
       "    </tr>\n",
       "  </tbody>\n",
       "</table>\n",
       "<p>77980 rows × 10 columns</p>\n",
       "</div>"
      ],
      "text/plain": [
       "                                              Image_Path          Brand  \\\n",
       "0      vehicle_images/1633889154186_Toyota Hilux 2006...         Toyota   \n",
       "1      vehicle_images/1633889154395_Land Rover Freela...     Land Rover   \n",
       "2      vehicle_images/1633889154545_Nissan Leaf G Gra...         Nissan   \n",
       "3      vehicle_images/1633889154697_Mercedes Benz C20...  Mercedes Benz   \n",
       "4      vehicle_images/1633889154870_Toyota Vitz 2018 ...         Toyota   \n",
       "...                                                  ...            ...   \n",
       "77975  ./vehicle_images/1636063962173_Honda Insight Z...          Honda   \n",
       "77976  ./vehicle_images/1636063962320_HINO Dutro 2011...           HINO   \n",
       "77977  ./vehicle_images/1636063962474_TVS King 2017 T...            TVS   \n",
       "77978  ./vehicle_images/1636063962690_Toyota Vitz 201...         Toyota   \n",
       "77979  ./vehicle_images/1636063962843_Suzuki Alto 201...         Suzuki   \n",
       "\n",
       "             Model               Edition  Year    Condition Transmission  \\\n",
       "0            Hilux                 Hilux  2006         Used       Manual   \n",
       "1       Freelander                  1999  1999         Used       Manual   \n",
       "2             Leaf               G Grade  2014         Used    Automatic   \n",
       "3             C200  C-Cabriolet AMG Line  2016         Used    Automatic   \n",
       "4             Vitz                  2018  2018         Used    Automatic   \n",
       "...            ...                   ...   ...          ...          ...   \n",
       "77975  Insight Ze3                   NaN  2012         Used    Automatic   \n",
       "77976        Dutro                   NaN  2011  Recondition       Manual   \n",
       "77977         King                   NaN  2017         Used       Manual   \n",
       "77978         Vitz                   NaN  2018         Used    Automatic   \n",
       "77979         Alto                   NaN  2015         Used       Manual   \n",
       "\n",
       "               Body      Fuel  Capacity  \n",
       "0         SUV / 4x4    Diesel  2,500 cc  \n",
       "1         SUV / 4x4    Diesel  1,990 cc  \n",
       "2         Hatchback  Electric     70 cc  \n",
       "3       Convertible    Petrol  2,000 cc  \n",
       "4         Hatchback    Petrol  1,000 cc  \n",
       "...             ...       ...       ...  \n",
       "77975           Car    Hybrid      1500  \n",
       "77976  Unregistered    Diesel      4000  \n",
       "77977   Three Wheel    Petrol        90  \n",
       "77978           Car    Petrol      1000  \n",
       "77979           Car    Petrol       800  \n",
       "\n",
       "[77980 rows x 10 columns]"
      ]
     },
     "execution_count": 158,
     "metadata": {},
     "output_type": "execute_result"
    }
   ],
   "source": [
    "df = pd.read_csv('/Users/utkucicek/Desktop/vehicle images/vehcle_img_data.csv',low_memory=False) # reading the csv file\n",
    "df "
   ]
  },
  {
   "cell_type": "code",
   "execution_count": 64,
   "metadata": {},
   "outputs": [
    {
     "data": {
      "text/plain": [
       "Image_Path          2\n",
       "Brand               0\n",
       "Model               1\n",
       "Edition         65742\n",
       "Year                0\n",
       "Condition           0\n",
       "Transmission        1\n",
       "Body             1224\n",
       "Fuel                0\n",
       "Capacity          205\n",
       "dtype: int64"
      ]
     },
     "execution_count": 64,
     "metadata": {},
     "output_type": "execute_result"
    }
   ],
   "source": [
    "df.isna().sum() # checking for NA paths"
   ]
  },
  {
   "cell_type": "code",
   "execution_count": 65,
   "metadata": {},
   "outputs": [],
   "source": [
    "df = df[~df.Image_Path.isnull()] # removing the NA paths"
   ]
  },
  {
   "cell_type": "code",
   "execution_count": 66,
   "metadata": {},
   "outputs": [],
   "source": [
    "import matplotlib.pyplot as plt"
   ]
  },
  {
   "cell_type": "code",
   "execution_count": 67,
   "metadata": {},
   "outputs": [
    {
     "data": {
      "image/png": "[encoded data removed]",
      "text/plain": [
       "<Figure size 1656x216 with 1 Axes>"
      ]
     },
     "metadata": {
      "needs_background": "light"
     },
     "output_type": "display_data"
    }
   ],
   "source": [
    "df.Brand.value_counts().plot(kind='bar', figsize=(23, 3)) # visualising the data\n",
    "# commenting the plot \n",
    "plt.title(\"Cars brand\")\n",
    "plt.xlabel(\"Brand name\")\n",
    "plt.ylabel(\"Count\")"
   ]
  },
  {
   "cell_type": "code",
   "execution_count": 68,
   "metadata": {},
   "outputs": [
    {
     "data": {
      "text/plain": [
       "Index(['Toyota', 'Suzuki', 'Bajaj', 'Honda'], dtype='object')"
      ]
     },
     "execution_count": 68,
     "metadata": {},
     "output_type": "execute_result"
    }
   ],
   "source": [
    "N = 4 \n",
    "top_NBrands = df.Brand.value_counts()[:N].index # picking the 4 top brands\n",
    "top_NBrands"
   ]
  },
  {
   "cell_type": "code",
   "execution_count": 69,
   "metadata": {},
   "outputs": [
    {
     "data": {
      "text/html": [
       "<div>\n",
       "<style scoped>\n",
       "    .dataframe tbody tr th:only-of-type {\n",
       "        vertical-align: middle;\n",
       "    }\n",
       "\n",
       "    .dataframe tbody tr th {\n",
       "        vertical-align: top;\n",
       "    }\n",
       "\n",
       "    .dataframe thead th {\n",
       "        text-align: right;\n",
       "    }\n",
       "</style>\n",
       "<table border=\"1\" class=\"dataframe\">\n",
       "  <thead>\n",
       "    <tr style=\"text-align: right;\">\n",
       "      <th></th>\n",
       "      <th>Image_Path</th>\n",
       "      <th>Brand</th>\n",
       "      <th>Model</th>\n",
       "      <th>Edition</th>\n",
       "      <th>Year</th>\n",
       "      <th>Condition</th>\n",
       "      <th>Transmission</th>\n",
       "      <th>Body</th>\n",
       "      <th>Fuel</th>\n",
       "      <th>Capacity</th>\n",
       "    </tr>\n",
       "  </thead>\n",
       "  <tbody>\n",
       "    <tr>\n",
       "      <th>0</th>\n",
       "      <td>vehicle_images/1633889154186_Toyota Hilux 2006...</td>\n",
       "      <td>Toyota</td>\n",
       "      <td>Hilux</td>\n",
       "      <td>Hilux</td>\n",
       "      <td>2006</td>\n",
       "      <td>Used</td>\n",
       "      <td>Manual</td>\n",
       "      <td>SUV / 4x4</td>\n",
       "      <td>Diesel</td>\n",
       "      <td>2,500 cc</td>\n",
       "    </tr>\n",
       "    <tr>\n",
       "      <th>4</th>\n",
       "      <td>vehicle_images/1633889154870_Toyota Vitz 2018 ...</td>\n",
       "      <td>Toyota</td>\n",
       "      <td>Vitz</td>\n",
       "      <td>2018</td>\n",
       "      <td>2018</td>\n",
       "      <td>Used</td>\n",
       "      <td>Automatic</td>\n",
       "      <td>Hatchback</td>\n",
       "      <td>Petrol</td>\n",
       "      <td>1,000 cc</td>\n",
       "    </tr>\n",
       "    <tr>\n",
       "      <th>5</th>\n",
       "      <td>vehicle_images/1633889155051_Toyota Starlet EP...</td>\n",
       "      <td>Toyota</td>\n",
       "      <td>Starlet</td>\n",
       "      <td>EP71</td>\n",
       "      <td>1990</td>\n",
       "      <td>Used</td>\n",
       "      <td>Manual</td>\n",
       "      <td>Hatchback</td>\n",
       "      <td>Petrol</td>\n",
       "      <td>1,300 cc</td>\n",
       "    </tr>\n",
       "    <tr>\n",
       "      <th>6</th>\n",
       "      <td>vehicle_images/1633889155191_Toyota Aqua S 201...</td>\n",
       "      <td>Toyota</td>\n",
       "      <td>Aqua</td>\n",
       "      <td>S</td>\n",
       "      <td>2014</td>\n",
       "      <td>Used</td>\n",
       "      <td>Automatic</td>\n",
       "      <td>Hatchback</td>\n",
       "      <td>Hybrid</td>\n",
       "      <td>1,500 cc</td>\n",
       "    </tr>\n",
       "    <tr>\n",
       "      <th>8</th>\n",
       "      <td>vehicle_images/1633889155496_Toyota Axio editi...</td>\n",
       "      <td>Toyota</td>\n",
       "      <td>Axio</td>\n",
       "      <td>edition</td>\n",
       "      <td>2015</td>\n",
       "      <td>Used</td>\n",
       "      <td>Automatic</td>\n",
       "      <td>Saloon</td>\n",
       "      <td>Petrol</td>\n",
       "      <td>1,500 cc</td>\n",
       "    </tr>\n",
       "  </tbody>\n",
       "</table>\n",
       "</div>"
      ],
      "text/plain": [
       "                                          Image_Path   Brand    Model  \\\n",
       "0  vehicle_images/1633889154186_Toyota Hilux 2006...  Toyota    Hilux   \n",
       "4  vehicle_images/1633889154870_Toyota Vitz 2018 ...  Toyota     Vitz   \n",
       "5  vehicle_images/1633889155051_Toyota Starlet EP...  Toyota  Starlet   \n",
       "6  vehicle_images/1633889155191_Toyota Aqua S 201...  Toyota     Aqua   \n",
       "8  vehicle_images/1633889155496_Toyota Axio editi...  Toyota     Axio   \n",
       "\n",
       "   Edition  Year Condition Transmission       Body    Fuel  Capacity  \n",
       "0    Hilux  2006      Used       Manual  SUV / 4x4  Diesel  2,500 cc  \n",
       "4     2018  2018      Used    Automatic  Hatchback  Petrol  1,000 cc  \n",
       "5     EP71  1990      Used       Manual  Hatchback  Petrol  1,300 cc  \n",
       "6        S  2014      Used    Automatic  Hatchback  Hybrid  1,500 cc  \n",
       "8  edition  2015      Used    Automatic     Saloon  Petrol  1,500 cc  "
      ]
     },
     "execution_count": 69,
     "metadata": {},
     "output_type": "execute_result"
    }
   ],
   "source": [
    "df_NB = df[df.Brand.isin(top_NBrands)] \n",
    "df_NB.head()# creating a data frame including the brands with the highest value counts"
   ]
  },
  {
   "cell_type": "code",
   "execution_count": 70,
   "metadata": {},
   "outputs": [
    {
     "data": {
      "text/html": [
       "<div>\n",
       "<style scoped>\n",
       "    .dataframe tbody tr th:only-of-type {\n",
       "        vertical-align: middle;\n",
       "    }\n",
       "\n",
       "    .dataframe tbody tr th {\n",
       "        vertical-align: top;\n",
       "    }\n",
       "\n",
       "    .dataframe thead th {\n",
       "        text-align: right;\n",
       "    }\n",
       "</style>\n",
       "<table border=\"1\" class=\"dataframe\">\n",
       "  <thead>\n",
       "    <tr style=\"text-align: right;\">\n",
       "      <th></th>\n",
       "      <th>Image_Path</th>\n",
       "      <th>Brand</th>\n",
       "      <th>Model</th>\n",
       "      <th>Edition</th>\n",
       "      <th>Year</th>\n",
       "      <th>Condition</th>\n",
       "      <th>Transmission</th>\n",
       "      <th>Body</th>\n",
       "      <th>Fuel</th>\n",
       "      <th>Capacity</th>\n",
       "    </tr>\n",
       "  </thead>\n",
       "  <tbody>\n",
       "    <tr>\n",
       "      <th>0</th>\n",
       "      <td>vehicle_images/1633889154186_Toyota Hilux 2006...</td>\n",
       "      <td>Toyota</td>\n",
       "      <td>Hilux</td>\n",
       "      <td>Hilux</td>\n",
       "      <td>2006</td>\n",
       "      <td>Used</td>\n",
       "      <td>Manual</td>\n",
       "      <td>SUV / 4x4</td>\n",
       "      <td>Diesel</td>\n",
       "      <td>2,500 cc</td>\n",
       "    </tr>\n",
       "    <tr>\n",
       "      <th>1</th>\n",
       "      <td>vehicle_images/1633889154870_Toyota Vitz 2018 ...</td>\n",
       "      <td>Toyota</td>\n",
       "      <td>Vitz</td>\n",
       "      <td>2018</td>\n",
       "      <td>2018</td>\n",
       "      <td>Used</td>\n",
       "      <td>Automatic</td>\n",
       "      <td>Hatchback</td>\n",
       "      <td>Petrol</td>\n",
       "      <td>1,000 cc</td>\n",
       "    </tr>\n",
       "    <tr>\n",
       "      <th>2</th>\n",
       "      <td>vehicle_images/1633889155051_Toyota Starlet EP...</td>\n",
       "      <td>Toyota</td>\n",
       "      <td>Starlet</td>\n",
       "      <td>EP71</td>\n",
       "      <td>1990</td>\n",
       "      <td>Used</td>\n",
       "      <td>Manual</td>\n",
       "      <td>Hatchback</td>\n",
       "      <td>Petrol</td>\n",
       "      <td>1,300 cc</td>\n",
       "    </tr>\n",
       "    <tr>\n",
       "      <th>3</th>\n",
       "      <td>vehicle_images/1633889155191_Toyota Aqua S 201...</td>\n",
       "      <td>Toyota</td>\n",
       "      <td>Aqua</td>\n",
       "      <td>S</td>\n",
       "      <td>2014</td>\n",
       "      <td>Used</td>\n",
       "      <td>Automatic</td>\n",
       "      <td>Hatchback</td>\n",
       "      <td>Hybrid</td>\n",
       "      <td>1,500 cc</td>\n",
       "    </tr>\n",
       "    <tr>\n",
       "      <th>4</th>\n",
       "      <td>vehicle_images/1633889155496_Toyota Axio editi...</td>\n",
       "      <td>Toyota</td>\n",
       "      <td>Axio</td>\n",
       "      <td>edition</td>\n",
       "      <td>2015</td>\n",
       "      <td>Used</td>\n",
       "      <td>Automatic</td>\n",
       "      <td>Saloon</td>\n",
       "      <td>Petrol</td>\n",
       "      <td>1,500 cc</td>\n",
       "    </tr>\n",
       "    <tr>\n",
       "      <th>...</th>\n",
       "      <td>...</td>\n",
       "      <td>...</td>\n",
       "      <td>...</td>\n",
       "      <td>...</td>\n",
       "      <td>...</td>\n",
       "      <td>...</td>\n",
       "      <td>...</td>\n",
       "      <td>...</td>\n",
       "      <td>...</td>\n",
       "      <td>...</td>\n",
       "    </tr>\n",
       "    <tr>\n",
       "      <th>45979</th>\n",
       "      <td>./vehicle_images/1636063961765_Toyota Kdh Supe...</td>\n",
       "      <td>Toyota</td>\n",
       "      <td>KDH Super GL Prime Selection</td>\n",
       "      <td>NaN</td>\n",
       "      <td>2013</td>\n",
       "      <td>Used</td>\n",
       "      <td>Automatic</td>\n",
       "      <td>Van</td>\n",
       "      <td>Diesel</td>\n",
       "      <td>2980</td>\n",
       "    </tr>\n",
       "    <tr>\n",
       "      <th>45980</th>\n",
       "      <td>./vehicle_images/1636063962026_Bajaj Discover ...</td>\n",
       "      <td>Bajaj</td>\n",
       "      <td>Discover</td>\n",
       "      <td>NaN</td>\n",
       "      <td>2006</td>\n",
       "      <td>Used</td>\n",
       "      <td>Automatic</td>\n",
       "      <td>Motorbike</td>\n",
       "      <td>Petrol</td>\n",
       "      <td>125</td>\n",
       "    </tr>\n",
       "    <tr>\n",
       "      <th>45981</th>\n",
       "      <td>./vehicle_images/1636063962173_Honda Insight Z...</td>\n",
       "      <td>Honda</td>\n",
       "      <td>Insight Ze3</td>\n",
       "      <td>NaN</td>\n",
       "      <td>2012</td>\n",
       "      <td>Used</td>\n",
       "      <td>Automatic</td>\n",
       "      <td>Car</td>\n",
       "      <td>Hybrid</td>\n",
       "      <td>1500</td>\n",
       "    </tr>\n",
       "    <tr>\n",
       "      <th>45982</th>\n",
       "      <td>./vehicle_images/1636063962690_Toyota Vitz 201...</td>\n",
       "      <td>Toyota</td>\n",
       "      <td>Vitz</td>\n",
       "      <td>NaN</td>\n",
       "      <td>2018</td>\n",
       "      <td>Used</td>\n",
       "      <td>Automatic</td>\n",
       "      <td>Car</td>\n",
       "      <td>Petrol</td>\n",
       "      <td>1000</td>\n",
       "    </tr>\n",
       "    <tr>\n",
       "      <th>45983</th>\n",
       "      <td>./vehicle_images/1636063962843_Suzuki Alto 201...</td>\n",
       "      <td>Suzuki</td>\n",
       "      <td>Alto</td>\n",
       "      <td>NaN</td>\n",
       "      <td>2015</td>\n",
       "      <td>Used</td>\n",
       "      <td>Manual</td>\n",
       "      <td>Car</td>\n",
       "      <td>Petrol</td>\n",
       "      <td>800</td>\n",
       "    </tr>\n",
       "  </tbody>\n",
       "</table>\n",
       "<p>45984 rows × 10 columns</p>\n",
       "</div>"
      ],
      "text/plain": [
       "                                              Image_Path   Brand  \\\n",
       "0      vehicle_images/1633889154186_Toyota Hilux 2006...  Toyota   \n",
       "1      vehicle_images/1633889154870_Toyota Vitz 2018 ...  Toyota   \n",
       "2      vehicle_images/1633889155051_Toyota Starlet EP...  Toyota   \n",
       "3      vehicle_images/1633889155191_Toyota Aqua S 201...  Toyota   \n",
       "4      vehicle_images/1633889155496_Toyota Axio editi...  Toyota   \n",
       "...                                                  ...     ...   \n",
       "45979  ./vehicle_images/1636063961765_Toyota Kdh Supe...  Toyota   \n",
       "45980  ./vehicle_images/1636063962026_Bajaj Discover ...   Bajaj   \n",
       "45981  ./vehicle_images/1636063962173_Honda Insight Z...   Honda   \n",
       "45982  ./vehicle_images/1636063962690_Toyota Vitz 201...  Toyota   \n",
       "45983  ./vehicle_images/1636063962843_Suzuki Alto 201...  Suzuki   \n",
       "\n",
       "                              Model  Edition  Year Condition Transmission  \\\n",
       "0                             Hilux    Hilux  2006      Used       Manual   \n",
       "1                              Vitz     2018  2018      Used    Automatic   \n",
       "2                           Starlet     EP71  1990      Used       Manual   \n",
       "3                              Aqua        S  2014      Used    Automatic   \n",
       "4                              Axio  edition  2015      Used    Automatic   \n",
       "...                             ...      ...   ...       ...          ...   \n",
       "45979  KDH Super GL Prime Selection      NaN  2013      Used    Automatic   \n",
       "45980                      Discover      NaN  2006      Used    Automatic   \n",
       "45981                   Insight Ze3      NaN  2012      Used    Automatic   \n",
       "45982                          Vitz      NaN  2018      Used    Automatic   \n",
       "45983                          Alto      NaN  2015      Used       Manual   \n",
       "\n",
       "            Body    Fuel  Capacity  \n",
       "0      SUV / 4x4  Diesel  2,500 cc  \n",
       "1      Hatchback  Petrol  1,000 cc  \n",
       "2      Hatchback  Petrol  1,300 cc  \n",
       "3      Hatchback  Hybrid  1,500 cc  \n",
       "4         Saloon  Petrol  1,500 cc  \n",
       "...          ...     ...       ...  \n",
       "45979        Van  Diesel      2980  \n",
       "45980  Motorbike  Petrol       125  \n",
       "45981        Car  Hybrid      1500  \n",
       "45982        Car  Petrol      1000  \n",
       "45983        Car  Petrol       800  \n",
       "\n",
       "[45984 rows x 10 columns]"
      ]
     },
     "execution_count": 70,
     "metadata": {},
     "output_type": "execute_result"
    }
   ],
   "source": [
    "df_NB.reset_index(drop=True, inplace=True) # reseting the indexes\n",
    "df_NB "
   ]
  },
  {
   "cell_type": "code",
   "execution_count": 71,
   "metadata": {},
   "outputs": [],
   "source": [
    "# creating dataframes for each brand\n",
    "Toyata = df_NB.loc[df_NB['Brand']=='Toyota']\n",
    "Suzuki = df_NB.loc[df_NB['Brand']=='Suzuki']\n",
    "Bajaj = df_NB.loc[df_NB['Brand']=='Bajaj']\n",
    "Honda = df_NB.loc[df_NB['Brand']=='Honda'] "
   ]
  },
  {
   "cell_type": "code",
   "execution_count": 72,
   "metadata": {},
   "outputs": [],
   "source": [
    "import numpy as np"
   ]
  },
  {
   "cell_type": "code",
   "execution_count": 73,
   "metadata": {},
   "outputs": [
    {
     "name": "stderr",
     "output_type": "stream",
     "text": [
      "<ipython-input-73-8b95bcefd10b>:2: SettingWithCopyWarning: \n",
      "A value is trying to be set on a copy of a slice from a DataFrame.\n",
      "Try using .loc[row_indexer,col_indexer] = value instead\n",
      "\n",
      "See the caveats in the documentation: https://pandas.pydata.org/pandas-docs/stable/user_guide/indexing.html#returning-a-view-versus-a-copy\n",
      "  Toyata['Brand'] = 0\n",
      "<ipython-input-73-8b95bcefd10b>:3: SettingWithCopyWarning: \n",
      "A value is trying to be set on a copy of a slice from a DataFrame.\n",
      "Try using .loc[row_indexer,col_indexer] = value instead\n",
      "\n",
      "See the caveats in the documentation: https://pandas.pydata.org/pandas-docs/stable/user_guide/indexing.html#returning-a-view-versus-a-copy\n",
      "  Suzuki['Brand'] = 1\n",
      "<ipython-input-73-8b95bcefd10b>:4: SettingWithCopyWarning: \n",
      "A value is trying to be set on a copy of a slice from a DataFrame.\n",
      "Try using .loc[row_indexer,col_indexer] = value instead\n",
      "\n",
      "See the caveats in the documentation: https://pandas.pydata.org/pandas-docs/stable/user_guide/indexing.html#returning-a-view-versus-a-copy\n",
      "  Bajaj['Brand'] = 2\n",
      "<ipython-input-73-8b95bcefd10b>:5: SettingWithCopyWarning: \n",
      "A value is trying to be set on a copy of a slice from a DataFrame.\n",
      "Try using .loc[row_indexer,col_indexer] = value instead\n",
      "\n",
      "See the caveats in the documentation: https://pandas.pydata.org/pandas-docs/stable/user_guide/indexing.html#returning-a-view-versus-a-copy\n",
      "  Honda['Brand'] = 3\n"
     ]
    },
    {
     "data": {
      "text/html": [
       "<div>\n",
       "<style scoped>\n",
       "    .dataframe tbody tr th:only-of-type {\n",
       "        vertical-align: middle;\n",
       "    }\n",
       "\n",
       "    .dataframe tbody tr th {\n",
       "        vertical-align: top;\n",
       "    }\n",
       "\n",
       "    .dataframe thead th {\n",
       "        text-align: right;\n",
       "    }\n",
       "</style>\n",
       "<table border=\"1\" class=\"dataframe\">\n",
       "  <thead>\n",
       "    <tr style=\"text-align: right;\">\n",
       "      <th></th>\n",
       "      <th>Image_Path</th>\n",
       "      <th>Brand</th>\n",
       "      <th>Model</th>\n",
       "      <th>Edition</th>\n",
       "      <th>Year</th>\n",
       "      <th>Condition</th>\n",
       "      <th>Transmission</th>\n",
       "      <th>Body</th>\n",
       "      <th>Fuel</th>\n",
       "      <th>Capacity</th>\n",
       "    </tr>\n",
       "  </thead>\n",
       "  <tbody>\n",
       "    <tr>\n",
       "      <th>7</th>\n",
       "      <td>vehicle_images/1633889156015_Honda Insight 200...</td>\n",
       "      <td>3</td>\n",
       "      <td>Insight</td>\n",
       "      <td>Honda</td>\n",
       "      <td>2009</td>\n",
       "      <td>Used</td>\n",
       "      <td>Automatic</td>\n",
       "      <td>Hatchback</td>\n",
       "      <td>Hybrid</td>\n",
       "      <td>1,300 cc</td>\n",
       "    </tr>\n",
       "    <tr>\n",
       "      <th>11</th>\n",
       "      <td>vehicle_images/1633889157897_Honda Vezel 2014 ...</td>\n",
       "      <td>3</td>\n",
       "      <td>Vezel</td>\n",
       "      <td>Honda</td>\n",
       "      <td>2014</td>\n",
       "      <td>Used</td>\n",
       "      <td>Automatic</td>\n",
       "      <td>SUV / 4x4</td>\n",
       "      <td>Hybrid</td>\n",
       "      <td>1,500 cc</td>\n",
       "    </tr>\n",
       "    <tr>\n",
       "      <th>16</th>\n",
       "      <td>vehicle_images/1633889158969_Honda Accord Luxu...</td>\n",
       "      <td>3</td>\n",
       "      <td>Accord</td>\n",
       "      <td>Luxury Package</td>\n",
       "      <td>2010</td>\n",
       "      <td>Used</td>\n",
       "      <td>Tiptronic</td>\n",
       "      <td>Saloon</td>\n",
       "      <td>Petrol</td>\n",
       "      <td>2,400 cc</td>\n",
       "    </tr>\n",
       "    <tr>\n",
       "      <th>17</th>\n",
       "      <td>vehicle_images/1633889179672_Honda Fit gp5 201...</td>\n",
       "      <td>3</td>\n",
       "      <td>Fit</td>\n",
       "      <td>Fit gp5</td>\n",
       "      <td>2014</td>\n",
       "      <td>Used</td>\n",
       "      <td>Automatic</td>\n",
       "      <td>Hatchback</td>\n",
       "      <td>Hybrid</td>\n",
       "      <td>1,500 cc</td>\n",
       "    </tr>\n",
       "    <tr>\n",
       "      <th>20</th>\n",
       "      <td>vehicle_images/1633889180190_Honda Civic FD3 2...</td>\n",
       "      <td>3</td>\n",
       "      <td>Civic</td>\n",
       "      <td>Civic FD3</td>\n",
       "      <td>2007</td>\n",
       "      <td>Used</td>\n",
       "      <td>Automatic</td>\n",
       "      <td>Saloon</td>\n",
       "      <td>Petrol</td>\n",
       "      <td>1,330 cc</td>\n",
       "    </tr>\n",
       "    <tr>\n",
       "      <th>...</th>\n",
       "      <td>...</td>\n",
       "      <td>...</td>\n",
       "      <td>...</td>\n",
       "      <td>...</td>\n",
       "      <td>...</td>\n",
       "      <td>...</td>\n",
       "      <td>...</td>\n",
       "      <td>...</td>\n",
       "      <td>...</td>\n",
       "      <td>...</td>\n",
       "    </tr>\n",
       "    <tr>\n",
       "      <th>45961</th>\n",
       "      <td>./vehicle_images/1636063958210_Honda Cbr Mc22 ...</td>\n",
       "      <td>3</td>\n",
       "      <td>CBR MC22</td>\n",
       "      <td>NaN</td>\n",
       "      <td>2008</td>\n",
       "      <td>Recondition</td>\n",
       "      <td>Automatic</td>\n",
       "      <td>Unregistered</td>\n",
       "      <td>Petrol</td>\n",
       "      <td>250</td>\n",
       "    </tr>\n",
       "    <tr>\n",
       "      <th>45964</th>\n",
       "      <td>./vehicle_images/1636063958542_Honda Dio 2013 ...</td>\n",
       "      <td>3</td>\n",
       "      <td>Dio</td>\n",
       "      <td>NaN</td>\n",
       "      <td>2013</td>\n",
       "      <td>Used</td>\n",
       "      <td>Automatic</td>\n",
       "      <td>Motorbike</td>\n",
       "      <td>Petrol</td>\n",
       "      <td>110</td>\n",
       "    </tr>\n",
       "    <tr>\n",
       "      <th>45965</th>\n",
       "      <td>./vehicle_images/1636063958657_Honda Jade Ch12...</td>\n",
       "      <td>3</td>\n",
       "      <td>Jade Ch120</td>\n",
       "      <td>NaN</td>\n",
       "      <td>2009</td>\n",
       "      <td>Recondition</td>\n",
       "      <td>Automatic</td>\n",
       "      <td>Unregistered</td>\n",
       "      <td>Petrol</td>\n",
       "      <td>250</td>\n",
       "    </tr>\n",
       "    <tr>\n",
       "      <th>45976</th>\n",
       "      <td>./vehicle_images/1636063960930_Honda Civic Fb1...</td>\n",
       "      <td>3</td>\n",
       "      <td>Civic FB1</td>\n",
       "      <td>NaN</td>\n",
       "      <td>2012</td>\n",
       "      <td>Used</td>\n",
       "      <td>Automatic</td>\n",
       "      <td>Car</td>\n",
       "      <td>Petrol</td>\n",
       "      <td>1600</td>\n",
       "    </tr>\n",
       "    <tr>\n",
       "      <th>45981</th>\n",
       "      <td>./vehicle_images/1636063962173_Honda Insight Z...</td>\n",
       "      <td>3</td>\n",
       "      <td>Insight Ze3</td>\n",
       "      <td>NaN</td>\n",
       "      <td>2012</td>\n",
       "      <td>Used</td>\n",
       "      <td>Automatic</td>\n",
       "      <td>Car</td>\n",
       "      <td>Hybrid</td>\n",
       "      <td>1500</td>\n",
       "    </tr>\n",
       "  </tbody>\n",
       "</table>\n",
       "<p>8713 rows × 10 columns</p>\n",
       "</div>"
      ],
      "text/plain": [
       "                                              Image_Path  Brand        Model  \\\n",
       "7      vehicle_images/1633889156015_Honda Insight 200...      3      Insight   \n",
       "11     vehicle_images/1633889157897_Honda Vezel 2014 ...      3        Vezel   \n",
       "16     vehicle_images/1633889158969_Honda Accord Luxu...      3       Accord   \n",
       "17     vehicle_images/1633889179672_Honda Fit gp5 201...      3          Fit   \n",
       "20     vehicle_images/1633889180190_Honda Civic FD3 2...      3        Civic   \n",
       "...                                                  ...    ...          ...   \n",
       "45961  ./vehicle_images/1636063958210_Honda Cbr Mc22 ...      3     CBR MC22   \n",
       "45964  ./vehicle_images/1636063958542_Honda Dio 2013 ...      3          Dio   \n",
       "45965  ./vehicle_images/1636063958657_Honda Jade Ch12...      3   Jade Ch120   \n",
       "45976  ./vehicle_images/1636063960930_Honda Civic Fb1...      3    Civic FB1   \n",
       "45981  ./vehicle_images/1636063962173_Honda Insight Z...      3  Insight Ze3   \n",
       "\n",
       "              Edition  Year    Condition Transmission          Body    Fuel  \\\n",
       "7               Honda  2009         Used    Automatic     Hatchback  Hybrid   \n",
       "11              Honda  2014         Used    Automatic     SUV / 4x4  Hybrid   \n",
       "16     Luxury Package  2010         Used    Tiptronic        Saloon  Petrol   \n",
       "17            Fit gp5  2014         Used    Automatic     Hatchback  Hybrid   \n",
       "20          Civic FD3  2007         Used    Automatic        Saloon  Petrol   \n",
       "...               ...   ...          ...          ...           ...     ...   \n",
       "45961             NaN  2008  Recondition    Automatic  Unregistered  Petrol   \n",
       "45964             NaN  2013         Used    Automatic     Motorbike  Petrol   \n",
       "45965             NaN  2009  Recondition    Automatic  Unregistered  Petrol   \n",
       "45976             NaN  2012         Used    Automatic           Car  Petrol   \n",
       "45981             NaN  2012         Used    Automatic           Car  Hybrid   \n",
       "\n",
       "       Capacity  \n",
       "7      1,300 cc  \n",
       "11     1,500 cc  \n",
       "16     2,400 cc  \n",
       "17     1,500 cc  \n",
       "20     1,330 cc  \n",
       "...         ...  \n",
       "45961       250  \n",
       "45964       110  \n",
       "45965       250  \n",
       "45976      1600  \n",
       "45981      1500  \n",
       "\n",
       "[8713 rows x 10 columns]"
      ]
     },
     "execution_count": 73,
     "metadata": {},
     "output_type": "execute_result"
    }
   ],
   "source": [
    "#changing the labels to numbers\n",
    "Toyata['Brand'] = 0\n",
    "Suzuki['Brand'] = 1\n",
    "Bajaj['Brand'] = 2\n",
    "Honda['Brand'] = 3\n",
    "Honda\n"
   ]
  },
  {
   "cell_type": "code",
   "execution_count": 14,
   "metadata": {},
   "outputs": [
    {
     "data": {
      "text/plain": [
       "6000"
      ]
     },
     "execution_count": 14,
     "metadata": {},
     "output_type": "execute_result"
    }
   ],
   "source": [
    "# putting the imagepaths into two different lists, and making sure that they have the same order\n",
    "X1 = []\n",
    "X2 = []\n",
    "for image in Toyata.Image_Path[:1500]:\n",
    "    X1.append(image)\n",
    "for image in Suzuki.Image_Path[:1500]:\n",
    "    X1.append(image)\n",
    "for image in Bajaj.Image_Path[:1500]:\n",
    "    X1.append(image)\n",
    "for image in Honda.Image_Path[:1500]:\n",
    "    X1.append(image)\n",
    "for image in Toyata.Image_Path[1500:3000]:\n",
    "    X2.append(image)\n",
    "for image in Suzuki.Image_Path[1500:3000]:\n",
    "    X2.append(image)\n",
    "for image in Bajaj.Image_Path[1500:3000]:\n",
    "    X2.append(image)\n",
    "for image in Honda.Image_Path[1500:3000]:\n",
    "    X2.append(image)\n",
    "len(X1)"
   ]
  },
  {
   "cell_type": "code",
   "execution_count": 15,
   "metadata": {},
   "outputs": [
    {
     "data": {
      "text/plain": [
       "6000"
      ]
     },
     "execution_count": 15,
     "metadata": {},
     "output_type": "execute_result"
    }
   ],
   "source": [
    "# labels\n",
    "y1 = []\n",
    "for brand in Toyata.Brand[:1500]:\n",
    "    y1.append(brand)\n",
    "for brand in Suzuki.Brand[:1500]:\n",
    "    y1.append(brand)\n",
    "for brand in Bajaj.Brand[:1500]:\n",
    "    y1.append(brand)\n",
    "for brand in Honda.Brand[:1500]:\n",
    "    y1.append(brand)\n",
    "len(y1)"
   ]
  },
  {
   "cell_type": "code",
   "execution_count": 16,
   "metadata": {},
   "outputs": [],
   "source": [
    "import tensorflow as tf"
   ]
  },
  {
   "cell_type": "code",
   "execution_count": 17,
   "metadata": {},
   "outputs": [],
   "source": [
    "# image size\n",
    "# tf data loaders can also be used here, would be more efficent \n",
    "IMG_SIZE = 64\n",
    "\n",
    "def process_image(image_path):\n",
    "    \"\"\"\n",
    "    Convert an image file path and turns it into a Tensor.\n",
    "    \"\"\"\n",
    "    # Read an image from path\n",
    "    image = tf.io.read_file(image_path)\n",
    "    # Decode the jpeg image into numerical Tensor with 3 colour channels (Red, Green, Blue)\n",
    "    image = tf.image.decode_jpeg(image, channels=3)\n",
    "    # Convert the colour channel values from 0-225 to 0-1 values\n",
    "    image = tf.image.convert_image_dtype(image, tf.float32)\n",
    "    # Resize the image to our desired size IMG_SIZE\n",
    "    image = tf.image.resize(image, size=[IMG_SIZE, IMG_SIZE])\n",
    "    return image"
   ]
  },
  {
   "cell_type": "code",
   "execution_count": 18,
   "metadata": {},
   "outputs": [],
   "source": [
    "# converting paths to images\n",
    "for i,image_path in enumerate(X1):\n",
    "    X1[i]=process_image(image_path)"
   ]
  },
  {
   "cell_type": "code",
   "execution_count": 19,
   "metadata": {},
   "outputs": [],
   "source": [
    "# converting paths to images\n",
    "for i,image_path in enumerate(X2):\n",
    "    X2[i]=process_image(image_path)"
   ]
  },
  {
   "cell_type": "code",
   "execution_count": 20,
   "metadata": {},
   "outputs": [],
   "source": [
    "# converting lists to numpy arrays\n",
    "x1 = np.array(X1)\n",
    "y1 = np.array(y1)\n",
    "x2 = np.array(X2)"
   ]
  },
  {
   "cell_type": "code",
   "execution_count": 21,
   "metadata": {},
   "outputs": [
    {
     "name": "stdout",
     "output_type": "stream",
     "text": [
      "(6000, 64, 64, 3)\n",
      "(6000, 64, 64, 3)\n"
     ]
    }
   ],
   "source": [
    "# checking the shapes of x2 and x1\n",
    "print(x2.shape)\n",
    "print(x1.shape)"
   ]
  },
  {
   "cell_type": "code",
   "execution_count": 33,
   "metadata": {},
   "outputs": [],
   "source": [
    "from sklearn.model_selection import train_test_split\n",
    "from tensorflow.keras.utils import to_categorical\n",
    "import random"
   ]
  },
  {
   "cell_type": "code",
   "execution_count": 128,
   "metadata": {},
   "outputs": [],
   "source": [
    "number = random.randint(0,100) # picks a random number between 0 and 100 in order to randomize the shuffing once the cell is ran\n",
    "\n",
    "# splitting the data\n",
    "X_train1, X_test1, y_train1, y_test1 = train_test_split(x1,\n",
    "                                                  y1, \n",
    "                                                  test_size=0.2,\n",
    "                                                  random_state=number, shuffle=True)\n",
    "X_train2, X_test2, y_train2, y_test2 = train_test_split(x2,\n",
    "                                                  y1, \n",
    "                                                  test_size=0.2,\n",
    "                                                  random_state=number, shuffle=True)"
   ]
  },
  {
   "cell_type": "code",
   "execution_count": 36,
   "metadata": {},
   "outputs": [
    {
     "name": "stdout",
     "output_type": "stream",
     "text": [
      "(4800,)\n",
      "(64, 64, 3)\n",
      "(64, 64, 3)\n"
     ]
    },
    {
     "data": {
      "text/plain": [
       "(4800,)"
      ]
     },
     "execution_count": 36,
     "metadata": {},
     "output_type": "execute_result"
    }
   ],
   "source": [
    "# checking the shapes\n",
    "print(y_train1.shape)\n",
    "print(X_train1[0].shape)\n",
    "print(X_train2[0].shape)\n",
    "y_train2.shape"
   ]
  },
  {
   "cell_type": "code",
   "execution_count": 37,
   "metadata": {},
   "outputs": [
    {
     "name": "stdout",
     "output_type": "stream",
     "text": [
      "0\n"
     ]
    },
    {
     "data": {
      "text/plain": [
       "<matplotlib.image.AxesImage at 0x1c739b0d0>"
      ]
     },
     "execution_count": 37,
     "metadata": {},
     "output_type": "execute_result"
    },
    {
     "data": {
      "image/png": "[encoded data removed]",
      "text/plain": [
       "<Figure size 432x288 with 1 Axes>"
      ]
     },
     "metadata": {
      "needs_background": "light"
     },
     "output_type": "display_data"
    }
   ],
   "source": [
    "# displaying images and labels\n",
    "print(y_train1[99])\n",
    "plt.imshow(X_train1[99])"
   ]
  },
  {
   "cell_type": "code",
   "execution_count": 38,
   "metadata": {},
   "outputs": [
    {
     "name": "stdout",
     "output_type": "stream",
     "text": [
      "0\n"
     ]
    },
    {
     "data": {
      "text/plain": [
       "<matplotlib.image.AxesImage at 0x1b3fac820>"
      ]
     },
     "execution_count": 38,
     "metadata": {},
     "output_type": "execute_result"
    },
    {
     "data": {
      "image/png": "[encoded data removed]",
      "text/plain": [
       "<Figure size 432x288 with 1 Axes>"
      ]
     },
     "metadata": {
      "needs_background": "light"
     },
     "output_type": "display_data"
    }
   ],
   "source": [
    "# displaying images and labels\n",
    "print(y_train2[99])\n",
    "plt.imshow(X_train2[99])"
   ]
  },
  {
   "cell_type": "code",
   "execution_count": 129,
   "metadata": {},
   "outputs": [],
   "source": [
    "# changing from [3] to [0.0 , 0.0 , 0.0 , 1.0]\n",
    "y_train1 = to_categorical(y_train1, 4)\n",
    "y_train2 = to_categorical(y_train2, 4)\n",
    "y_test1 = to_categorical(y_test1, 4)\n",
    "y_test2 = to_categorical(y_test2, 4)"
   ]
  },
  {
   "cell_type": "code",
   "execution_count": 130,
   "metadata": {},
   "outputs": [
    {
     "name": "stdout",
     "output_type": "stream",
     "text": [
      "[0. 0. 0. 1.]\n",
      "(1200, 4)\n",
      "(1200, 4)\n",
      "(4800, 4)\n"
     ]
    }
   ],
   "source": [
    "# checking the shapes\n",
    "print(y_train1[0])\n",
    "print(y_test1.shape)\n",
    "print(y_test2.shape)\n",
    "print(y_train2.shape)"
   ]
  },
  {
   "cell_type": "code",
   "execution_count": 131,
   "metadata": {},
   "outputs": [
    {
     "name": "stdout",
     "output_type": "stream",
     "text": [
      "not available\n"
     ]
    }
   ],
   "source": [
    "# checking if GPU is avaliable\n",
    "print(\"GPU available\" if tf.config.list_physical_devices(\"GPU\") else \"not available\");"
   ]
  },
  {
   "cell_type": "code",
   "execution_count": 132,
   "metadata": {},
   "outputs": [],
   "source": [
    "import os\n",
    "import tensorflow as tf\n",
    "from tensorflow import keras\n",
    "from keras.layers import Conv2D, MaxPooling2D, Dense, Input,BatchNormalization, Dropout, Flatten, Maximum, Input, Maximum, concatenate\n",
    "from keras.models import Sequential, Model"
   ]
  },
  {
   "cell_type": "code",
   "execution_count": 163,
   "metadata": {},
   "outputs": [
    {
     "name": "stdout",
     "output_type": "stream",
     "text": [
      "Model: \"model_47\"\n",
      "__________________________________________________________________________________________________\n",
      " Layer (type)                   Output Shape         Param #     Connected to                     \n",
      "==================================================================================================\n",
      " input_81 (InputLayer)          [(None, 64, 64, 3)]  0           []                               \n",
      "                                                                                                  \n",
      " input_82 (InputLayer)          [(None, 64, 64, 3)]  0           []                               \n",
      "                                                                                                  \n",
      " model_45 (Functional)          [(None, 32, 32, 64)  2197604     ['input_81[0][0]',               \n",
      "                                , (None, 4)]                      'input_82[0][0]']               \n",
      "                                                                                                  \n",
      " model_46 (Functional)          (None, 4)            238788      ['model_45[0][0]']               \n",
      "                                                                                                  \n",
      "==================================================================================================\n",
      "Total params: 2,436,392\n",
      "Trainable params: 2,436,392\n",
      "Non-trainable params: 0\n",
      "__________________________________________________________________________________________________\n",
      "('You must install pydot (`pip install pydot`) and install graphviz (see instructions at https://graphviz.gitlab.io/download/) ', 'for plot_model/model_to_dot to work.')\n"
     ]
    }
   ],
   "source": [
    "# model can be changed based on the dataset, removed the double CONV layers in the beggning since my computer is not strong enough to run it\n",
    "\n",
    "#model\n",
    "visible1 = Input(shape=(64, 64, 3))\n",
    "visible2 = Input(shape=(64, 64, 3))\n",
    "\n",
    "#submodel1\n",
    "conv1_left =  Conv2D(64, kernel_size=(2,2), padding='same', activation='relu', name = 'right1')(visible1)\n",
    "conv2_left =  Conv2D(128, kernel_size=(2,2), padding='same', activation='relu', name = 'right')(conv1_left)\n",
    "conv1_right = Conv2D(64, kernel_size=(2,2), padding='same', activation='relu', name = 'left')(visible2)\n",
    "conv2_right = Conv2D(128, kernel_size=(2,2), padding='same', activation='relu', name = 'left1')(conv1_right)\n",
    "merge_max = Maximum()([conv2_right, conv2_left])# merging operation\n",
    "maxpool1 = MaxPooling2D((2,2))(merge_max)\n",
    "conv1_mid = Conv2D(64, kernel_size=(2,2), padding='same', activation='relu', name = 'mid1')(maxpool1)\n",
    "# layer_dropout1 = Dropout(0.4)(maxpool1)\n",
    "layer_dropout1 = Dropout(0.4)(conv1_mid)# for the next model\n",
    "layer_flatten1 = Flatten()(layer_dropout1)\n",
    "layer_d = Dense(32, activation='relu')(layer_flatten1)\n",
    "layer_output = Dense(4, name=\"output1\",activation='softmax')(layer_d)# softmax activation is not used since from logits is true\n",
    "submodel = keras.Model(inputs=[visible1,visible2], outputs=[ layer_dropout1,layer_output])\n",
    "\n",
    "layer_input = Input(shape=(32, 32, 64,))\n",
    "layer_conv2 = Conv2D(32, (2, 2), activation='relu')(layer_input)\n",
    "layer_maxpooling1 = MaxPooling2D((2, 2))(layer_conv2)\n",
    "layer_flatten1 = Flatten()(layer_maxpooling1)\n",
    "layer_d1 = Dense(32, activation='relu')(layer_flatten1)\n",
    "layer_output1 = Dense(4, name=\"output1\",activation='softmax')(layer_d1)# softmax activation is not used since from logits is true\n",
    "submodel_1 = keras.Model(inputs=layer_input, outputs= layer_output1 )\n",
    "\n",
    "\n",
    "model_input1 = Input(shape=( 64, 64, 3,))\n",
    "model_input2 = Input(shape=( 64, 64, 3,))\n",
    "to_2, output1 = submodel([model_input1,model_input2])\n",
    "output2 = submodel_1(to_2)\n",
    "\n",
    "\n",
    "\n",
    "model = keras.Model(inputs=[model_input1,model_input2], outputs=[output1, \n",
    "                                    output2])\n",
    "model.summary()\n",
    "\n",
    "tf.keras.utils.plot_model(model) # plotting the model"
   ]
  },
  {
   "cell_type": "code",
   "execution_count": 164,
   "metadata": {},
   "outputs": [
    {
     "name": "stdout",
     "output_type": "stream",
     "text": [
      "Epoch 1/10\n",
      "  6/150 [>.............................] - ETA: 1:34 - loss: 0.1580 - model_45_loss: 1.6106 - model_46_loss: 1.4190 - model_45_Accuracy: 0.2500 - model_46_Accuracy: 0.2604"
     ]
    },
    {
     "ename": "KeyboardInterrupt",
     "evalue": "",
     "output_type": "error",
     "traceback": [
      "\u001b[0;31m---------------------------------------------------------------------------\u001b[0m",
      "\u001b[0;31mKeyboardInterrupt\u001b[0m                         Traceback (most recent call last)",
      "\u001b[0;32m<ipython-input-164-373ce0a7eaba>\u001b[0m in \u001b[0;36m<module>\u001b[0;34m\u001b[0m\n\u001b[1;32m      6\u001b[0m                     metrics=['Accuracy'])\n\u001b[1;32m      7\u001b[0m \u001b[0;34m\u001b[0m\u001b[0m\n\u001b[0;32m----> 8\u001b[0;31m \u001b[0mhistory\u001b[0m\u001b[0;34m=\u001b[0m\u001b[0mmodel\u001b[0m\u001b[0;34m.\u001b[0m\u001b[0mfit\u001b[0m\u001b[0;34m(\u001b[0m\u001b[0mx\u001b[0m\u001b[0;34m=\u001b[0m\u001b[0;34m[\u001b[0m\u001b[0mX_train1\u001b[0m\u001b[0;34m,\u001b[0m\u001b[0mX_train2\u001b[0m\u001b[0;34m]\u001b[0m\u001b[0;34m,\u001b[0m \u001b[0my\u001b[0m\u001b[0;34m=\u001b[0m \u001b[0my_train2\u001b[0m\u001b[0;34m,\u001b[0m \u001b[0mvalidation_data\u001b[0m\u001b[0;34m=\u001b[0m\u001b[0;34m(\u001b[0m\u001b[0;34m[\u001b[0m\u001b[0mX_test1\u001b[0m\u001b[0;34m,\u001b[0m\u001b[0mX_test2\u001b[0m\u001b[0;34m]\u001b[0m\u001b[0;34m,\u001b[0m\u001b[0my_test1\u001b[0m\u001b[0;34m)\u001b[0m\u001b[0;34m,\u001b[0m \u001b[0mepochs\u001b[0m\u001b[0;34m=\u001b[0m\u001b[0;36m10\u001b[0m\u001b[0;34m,\u001b[0m \u001b[0mbatch_size\u001b[0m\u001b[0;34m=\u001b[0m\u001b[0;36m32\u001b[0m\u001b[0;34m)\u001b[0m \u001b[0;31m# fitting the model\u001b[0m\u001b[0;34m\u001b[0m\u001b[0;34m\u001b[0m\u001b[0m\n\u001b[0m",
      "\u001b[0;32m/Library/Frameworks/Python.framework/Versions/3.9/lib/python3.9/site-packages/keras/utils/traceback_utils.py\u001b[0m in \u001b[0;36merror_handler\u001b[0;34m(*args, **kwargs)\u001b[0m\n\u001b[1;32m     62\u001b[0m     \u001b[0mfiltered_tb\u001b[0m \u001b[0;34m=\u001b[0m \u001b[0;32mNone\u001b[0m\u001b[0;34m\u001b[0m\u001b[0;34m\u001b[0m\u001b[0m\n\u001b[1;32m     63\u001b[0m     \u001b[0;32mtry\u001b[0m\u001b[0;34m:\u001b[0m\u001b[0;34m\u001b[0m\u001b[0;34m\u001b[0m\u001b[0m\n\u001b[0;32m---> 64\u001b[0;31m       \u001b[0;32mreturn\u001b[0m \u001b[0mfn\u001b[0m\u001b[0;34m(\u001b[0m\u001b[0;34m*\u001b[0m\u001b[0margs\u001b[0m\u001b[0;34m,\u001b[0m \u001b[0;34m**\u001b[0m\u001b[0mkwargs\u001b[0m\u001b[0;34m)\u001b[0m\u001b[0;34m\u001b[0m\u001b[0;34m\u001b[0m\u001b[0m\n\u001b[0m\u001b[1;32m     65\u001b[0m     \u001b[0;32mexcept\u001b[0m \u001b[0mException\u001b[0m \u001b[0;32mas\u001b[0m \u001b[0me\u001b[0m\u001b[0;34m:\u001b[0m  \u001b[0;31m# pylint: disable=broad-except\u001b[0m\u001b[0;34m\u001b[0m\u001b[0;34m\u001b[0m\u001b[0m\n\u001b[1;32m     66\u001b[0m       \u001b[0mfiltered_tb\u001b[0m \u001b[0;34m=\u001b[0m \u001b[0m_process_traceback_frames\u001b[0m\u001b[0;34m(\u001b[0m\u001b[0me\u001b[0m\u001b[0;34m.\u001b[0m\u001b[0m__traceback__\u001b[0m\u001b[0;34m)\u001b[0m\u001b[0;34m\u001b[0m\u001b[0;34m\u001b[0m\u001b[0m\n",
      "\u001b[0;32m/Library/Frameworks/Python.framework/Versions/3.9/lib/python3.9/site-packages/keras/engine/training.py\u001b[0m in \u001b[0;36mfit\u001b[0;34m(self, x, y, batch_size, epochs, verbose, callbacks, validation_split, validation_data, shuffle, class_weight, sample_weight, initial_epoch, steps_per_epoch, validation_steps, validation_batch_size, validation_freq, max_queue_size, workers, use_multiprocessing)\u001b[0m\n\u001b[1;32m   1214\u001b[0m                 _r=1):\n\u001b[1;32m   1215\u001b[0m               \u001b[0mcallbacks\u001b[0m\u001b[0;34m.\u001b[0m\u001b[0mon_train_batch_begin\u001b[0m\u001b[0;34m(\u001b[0m\u001b[0mstep\u001b[0m\u001b[0;34m)\u001b[0m\u001b[0;34m\u001b[0m\u001b[0;34m\u001b[0m\u001b[0m\n\u001b[0;32m-> 1216\u001b[0;31m               \u001b[0mtmp_logs\u001b[0m \u001b[0;34m=\u001b[0m \u001b[0mself\u001b[0m\u001b[0;34m.\u001b[0m\u001b[0mtrain_function\u001b[0m\u001b[0;34m(\u001b[0m\u001b[0miterator\u001b[0m\u001b[0;34m)\u001b[0m\u001b[0;34m\u001b[0m\u001b[0;34m\u001b[0m\u001b[0m\n\u001b[0m\u001b[1;32m   1217\u001b[0m               \u001b[0;32mif\u001b[0m \u001b[0mdata_handler\u001b[0m\u001b[0;34m.\u001b[0m\u001b[0mshould_sync\u001b[0m\u001b[0;34m:\u001b[0m\u001b[0;34m\u001b[0m\u001b[0;34m\u001b[0m\u001b[0m\n\u001b[1;32m   1218\u001b[0m                 \u001b[0mcontext\u001b[0m\u001b[0;34m.\u001b[0m\u001b[0masync_wait\u001b[0m\u001b[0;34m(\u001b[0m\u001b[0;34m)\u001b[0m\u001b[0;34m\u001b[0m\u001b[0;34m\u001b[0m\u001b[0m\n",
      "\u001b[0;32m/Library/Frameworks/Python.framework/Versions/3.9/lib/python3.9/site-packages/tensorflow/python/util/traceback_utils.py\u001b[0m in \u001b[0;36merror_handler\u001b[0;34m(*args, **kwargs)\u001b[0m\n\u001b[1;32m    148\u001b[0m     \u001b[0mfiltered_tb\u001b[0m \u001b[0;34m=\u001b[0m \u001b[0;32mNone\u001b[0m\u001b[0;34m\u001b[0m\u001b[0;34m\u001b[0m\u001b[0m\n\u001b[1;32m    149\u001b[0m     \u001b[0;32mtry\u001b[0m\u001b[0;34m:\u001b[0m\u001b[0;34m\u001b[0m\u001b[0;34m\u001b[0m\u001b[0m\n\u001b[0;32m--> 150\u001b[0;31m       \u001b[0;32mreturn\u001b[0m \u001b[0mfn\u001b[0m\u001b[0;34m(\u001b[0m\u001b[0;34m*\u001b[0m\u001b[0margs\u001b[0m\u001b[0;34m,\u001b[0m \u001b[0;34m**\u001b[0m\u001b[0mkwargs\u001b[0m\u001b[0;34m)\u001b[0m\u001b[0;34m\u001b[0m\u001b[0;34m\u001b[0m\u001b[0m\n\u001b[0m\u001b[1;32m    151\u001b[0m     \u001b[0;32mexcept\u001b[0m \u001b[0mException\u001b[0m \u001b[0;32mas\u001b[0m \u001b[0me\u001b[0m\u001b[0;34m:\u001b[0m\u001b[0;34m\u001b[0m\u001b[0;34m\u001b[0m\u001b[0m\n\u001b[1;32m    152\u001b[0m       \u001b[0mfiltered_tb\u001b[0m \u001b[0;34m=\u001b[0m \u001b[0m_process_traceback_frames\u001b[0m\u001b[0;34m(\u001b[0m\u001b[0me\u001b[0m\u001b[0;34m.\u001b[0m\u001b[0m__traceback__\u001b[0m\u001b[0;34m)\u001b[0m\u001b[0;34m\u001b[0m\u001b[0;34m\u001b[0m\u001b[0m\n",
      "\u001b[0;32m/Library/Frameworks/Python.framework/Versions/3.9/lib/python3.9/site-packages/tensorflow/python/eager/def_function.py\u001b[0m in \u001b[0;36m__call__\u001b[0;34m(self, *args, **kwds)\u001b[0m\n\u001b[1;32m    908\u001b[0m \u001b[0;34m\u001b[0m\u001b[0m\n\u001b[1;32m    909\u001b[0m       \u001b[0;32mwith\u001b[0m \u001b[0mOptionalXlaContext\u001b[0m\u001b[0;34m(\u001b[0m\u001b[0mself\u001b[0m\u001b[0;34m.\u001b[0m\u001b[0m_jit_compile\u001b[0m\u001b[0;34m)\u001b[0m\u001b[0;34m:\u001b[0m\u001b[0;34m\u001b[0m\u001b[0;34m\u001b[0m\u001b[0m\n\u001b[0;32m--> 910\u001b[0;31m         \u001b[0mresult\u001b[0m \u001b[0;34m=\u001b[0m \u001b[0mself\u001b[0m\u001b[0;34m.\u001b[0m\u001b[0m_call\u001b[0m\u001b[0;34m(\u001b[0m\u001b[0;34m*\u001b[0m\u001b[0margs\u001b[0m\u001b[0;34m,\u001b[0m \u001b[0;34m**\u001b[0m\u001b[0mkwds\u001b[0m\u001b[0;34m)\u001b[0m\u001b[0;34m\u001b[0m\u001b[0;34m\u001b[0m\u001b[0m\n\u001b[0m\u001b[1;32m    911\u001b[0m \u001b[0;34m\u001b[0m\u001b[0m\n\u001b[1;32m    912\u001b[0m       \u001b[0mnew_tracing_count\u001b[0m \u001b[0;34m=\u001b[0m \u001b[0mself\u001b[0m\u001b[0;34m.\u001b[0m\u001b[0mexperimental_get_tracing_count\u001b[0m\u001b[0;34m(\u001b[0m\u001b[0;34m)\u001b[0m\u001b[0;34m\u001b[0m\u001b[0;34m\u001b[0m\u001b[0m\n",
      "\u001b[0;32m/Library/Frameworks/Python.framework/Versions/3.9/lib/python3.9/site-packages/tensorflow/python/eager/def_function.py\u001b[0m in \u001b[0;36m_call\u001b[0;34m(self, *args, **kwds)\u001b[0m\n\u001b[1;32m    940\u001b[0m       \u001b[0;31m# In this case we have created variables on the first call, so we run the\u001b[0m\u001b[0;34m\u001b[0m\u001b[0;34m\u001b[0m\u001b[0;34m\u001b[0m\u001b[0m\n\u001b[1;32m    941\u001b[0m       \u001b[0;31m# defunned version which is guaranteed to never create variables.\u001b[0m\u001b[0;34m\u001b[0m\u001b[0;34m\u001b[0m\u001b[0;34m\u001b[0m\u001b[0m\n\u001b[0;32m--> 942\u001b[0;31m       \u001b[0;32mreturn\u001b[0m \u001b[0mself\u001b[0m\u001b[0;34m.\u001b[0m\u001b[0m_stateless_fn\u001b[0m\u001b[0;34m(\u001b[0m\u001b[0;34m*\u001b[0m\u001b[0margs\u001b[0m\u001b[0;34m,\u001b[0m \u001b[0;34m**\u001b[0m\u001b[0mkwds\u001b[0m\u001b[0;34m)\u001b[0m  \u001b[0;31m# pylint: disable=not-callable\u001b[0m\u001b[0;34m\u001b[0m\u001b[0;34m\u001b[0m\u001b[0m\n\u001b[0m\u001b[1;32m    943\u001b[0m     \u001b[0;32melif\u001b[0m \u001b[0mself\u001b[0m\u001b[0;34m.\u001b[0m\u001b[0m_stateful_fn\u001b[0m \u001b[0;32mis\u001b[0m \u001b[0;32mnot\u001b[0m \u001b[0;32mNone\u001b[0m\u001b[0;34m:\u001b[0m\u001b[0;34m\u001b[0m\u001b[0;34m\u001b[0m\u001b[0m\n\u001b[1;32m    944\u001b[0m       \u001b[0;31m# Release the lock early so that multiple threads can perform the call\u001b[0m\u001b[0;34m\u001b[0m\u001b[0;34m\u001b[0m\u001b[0;34m\u001b[0m\u001b[0m\n",
      "\u001b[0;32m/Library/Frameworks/Python.framework/Versions/3.9/lib/python3.9/site-packages/tensorflow/python/eager/function.py\u001b[0m in \u001b[0;36m__call__\u001b[0;34m(self, *args, **kwargs)\u001b[0m\n\u001b[1;32m   3128\u001b[0m       (graph_function,\n\u001b[1;32m   3129\u001b[0m        filtered_flat_args) = self._maybe_define_function(args, kwargs)\n\u001b[0;32m-> 3130\u001b[0;31m     return graph_function._call_flat(\n\u001b[0m\u001b[1;32m   3131\u001b[0m         filtered_flat_args, captured_inputs=graph_function.captured_inputs)  # pylint: disable=protected-access\n\u001b[1;32m   3132\u001b[0m \u001b[0;34m\u001b[0m\u001b[0m\n",
      "\u001b[0;32m/Library/Frameworks/Python.framework/Versions/3.9/lib/python3.9/site-packages/tensorflow/python/eager/function.py\u001b[0m in \u001b[0;36m_call_flat\u001b[0;34m(self, args, captured_inputs, cancellation_manager)\u001b[0m\n\u001b[1;32m   1957\u001b[0m         and executing_eagerly):\n\u001b[1;32m   1958\u001b[0m       \u001b[0;31m# No tape is watching; skip to running the function.\u001b[0m\u001b[0;34m\u001b[0m\u001b[0;34m\u001b[0m\u001b[0;34m\u001b[0m\u001b[0m\n\u001b[0;32m-> 1959\u001b[0;31m       return self._build_call_outputs(self._inference_function.call(\n\u001b[0m\u001b[1;32m   1960\u001b[0m           ctx, args, cancellation_manager=cancellation_manager))\n\u001b[1;32m   1961\u001b[0m     forward_backward = self._select_forward_and_backward_functions(\n",
      "\u001b[0;32m/Library/Frameworks/Python.framework/Versions/3.9/lib/python3.9/site-packages/tensorflow/python/eager/function.py\u001b[0m in \u001b[0;36mcall\u001b[0;34m(self, ctx, args, cancellation_manager)\u001b[0m\n\u001b[1;32m    596\u001b[0m       \u001b[0;32mwith\u001b[0m \u001b[0m_InterpolateFunctionError\u001b[0m\u001b[0;34m(\u001b[0m\u001b[0mself\u001b[0m\u001b[0;34m)\u001b[0m\u001b[0;34m:\u001b[0m\u001b[0;34m\u001b[0m\u001b[0;34m\u001b[0m\u001b[0m\n\u001b[1;32m    597\u001b[0m         \u001b[0;32mif\u001b[0m \u001b[0mcancellation_manager\u001b[0m \u001b[0;32mis\u001b[0m \u001b[0;32mNone\u001b[0m\u001b[0;34m:\u001b[0m\u001b[0;34m\u001b[0m\u001b[0;34m\u001b[0m\u001b[0m\n\u001b[0;32m--> 598\u001b[0;31m           outputs = execute.execute(\n\u001b[0m\u001b[1;32m    599\u001b[0m               \u001b[0mstr\u001b[0m\u001b[0;34m(\u001b[0m\u001b[0mself\u001b[0m\u001b[0;34m.\u001b[0m\u001b[0msignature\u001b[0m\u001b[0;34m.\u001b[0m\u001b[0mname\u001b[0m\u001b[0;34m)\u001b[0m\u001b[0;34m,\u001b[0m\u001b[0;34m\u001b[0m\u001b[0;34m\u001b[0m\u001b[0m\n\u001b[1;32m    600\u001b[0m               \u001b[0mnum_outputs\u001b[0m\u001b[0;34m=\u001b[0m\u001b[0mself\u001b[0m\u001b[0;34m.\u001b[0m\u001b[0m_num_outputs\u001b[0m\u001b[0;34m,\u001b[0m\u001b[0;34m\u001b[0m\u001b[0;34m\u001b[0m\u001b[0m\n",
      "\u001b[0;32m/Library/Frameworks/Python.framework/Versions/3.9/lib/python3.9/site-packages/tensorflow/python/eager/execute.py\u001b[0m in \u001b[0;36mquick_execute\u001b[0;34m(op_name, num_outputs, inputs, attrs, ctx, name)\u001b[0m\n\u001b[1;32m     56\u001b[0m   \u001b[0;32mtry\u001b[0m\u001b[0;34m:\u001b[0m\u001b[0;34m\u001b[0m\u001b[0;34m\u001b[0m\u001b[0m\n\u001b[1;32m     57\u001b[0m     \u001b[0mctx\u001b[0m\u001b[0;34m.\u001b[0m\u001b[0mensure_initialized\u001b[0m\u001b[0;34m(\u001b[0m\u001b[0;34m)\u001b[0m\u001b[0;34m\u001b[0m\u001b[0;34m\u001b[0m\u001b[0m\n\u001b[0;32m---> 58\u001b[0;31m     tensors = pywrap_tfe.TFE_Py_Execute(ctx._handle, device_name, op_name,\n\u001b[0m\u001b[1;32m     59\u001b[0m                                         inputs, attrs, num_outputs)\n\u001b[1;32m     60\u001b[0m   \u001b[0;32mexcept\u001b[0m \u001b[0mcore\u001b[0m\u001b[0;34m.\u001b[0m\u001b[0m_NotOkStatusException\u001b[0m \u001b[0;32mas\u001b[0m \u001b[0me\u001b[0m\u001b[0;34m:\u001b[0m\u001b[0;34m\u001b[0m\u001b[0;34m\u001b[0m\u001b[0m\n",
      "\u001b[0;31mKeyboardInterrupt\u001b[0m: "
     ]
    }
   ],
   "source": [
    "opt = keras.optimizers.Adam()\n",
    "model.compile(optimizer = opt,\n",
    "              loss=[keras.losses.CategoricalCrossentropy(from_logits=True),\n",
    "                    keras.losses.CategoricalCrossentropy(from_logits=True)],\n",
    "                    loss_weights=[ 0.01, 0.1],\n",
    "                    metrics=['Accuracy'])\n",
    "    \n",
    "history=model.fit(x=[X_train1,X_train2], y= y_train2, validation_data=([X_test1,X_test2],y_test1), epochs=10, batch_size=32) # fitting the model"
   ]
  },
  {
   "cell_type": "code",
   "execution_count": 144,
   "metadata": {},
   "outputs": [
    {
     "data": {
      "image/png": "[encoded data removed]",
      "text/plain": [
       "<Figure size 432x288 with 1 Axes>"
      ]
     },
     "metadata": {
      "needs_background": "light"
     },
     "output_type": "display_data"
    }
   ],
   "source": [
    "# plotting loss \n",
    "plt.plot(history.history['loss'])\n",
    "plt.plot(history.history['val_loss'])\n",
    "plt.title('model loss')\n",
    "plt.ylabel('loss')\n",
    "plt.xlabel('epoch')\n",
    "plt.legend(['train', 'test'], loc='upper left')\n",
    "plt.show()"
   ]
  },
  {
   "cell_type": "code",
   "execution_count": 145,
   "metadata": {},
   "outputs": [],
   "source": []
  },
  {
   "cell_type": "code",
   "execution_count": 154,
   "metadata": {},
   "outputs": [
    {
     "name": "stdout",
     "output_type": "stream",
     "text": [
      "i\n"
     ]
    }
   ],
   "source": [
    "# creating a directory for the saved model\n",
    "!mkdir saved_model"
   ]
  },
  {
   "cell_type": "code",
   "execution_count": 147,
   "metadata": {},
   "outputs": [
    {
     "name": "stdout",
     "output_type": "stream",
     "text": [
      "INFO:tensorflow:Assets written to: /Users/utkucicek/Desktop/vehicle images/saved_model/assets\n"
     ]
    },
    {
     "name": "stderr",
     "output_type": "stream",
     "text": [
      "/Library/Frameworks/Python.framework/Versions/3.9/lib/python3.9/site-packages/keras/engine/functional.py:1410: CustomMaskWarning: Custom mask layers require a config and must override get_config. When loading, the custom mask layer must be passed to the custom_objects argument.\n",
      "  layer_config = serialize_layer_fn(layer)\n",
      "/Library/Frameworks/Python.framework/Versions/3.9/lib/python3.9/site-packages/keras/saving/saved_model/layer_serialization.py:112: CustomMaskWarning: Custom mask layers require a config and must override get_config. When loading, the custom mask layer must be passed to the custom_objects argument.\n",
      "  return generic_utils.serialize_keras_object(obj)\n"
     ]
    }
   ],
   "source": [
    "# saving the model\n",
    "model.save('/Users/utkucicek/Desktop/vehicle images/saved_model')"
   ]
  },
  {
   "cell_type": "code",
   "execution_count": 155,
   "metadata": {},
   "outputs": [
    {
     "name": "stdout",
     "output_type": "stream",
     "text": [
      "[[0. 1. 0. 0.]\n",
      " [0. 0. 0. 1.]\n",
      " [0. 0. 0. 1.]\n",
      " [0. 0. 1. 0.]\n",
      " [0. 1. 0. 0.]\n",
      " [0. 1. 0. 0.]\n",
      " [0. 1. 0. 0.]\n",
      " [0. 0. 1. 0.]\n",
      " [1. 0. 0. 0.]]\n"
     ]
    },
    {
     "data": {
      "text/plain": [
       "array([[4.2061111e-01, 5.2998859e-01, 5.4833282e-07, 4.9399696e-02],\n",
       "       [5.4885352e-01, 1.7073102e-01, 2.3754897e-05, 2.8039163e-01],\n",
       "       [2.9311985e-01, 2.8386027e-01, 2.9016115e-05, 4.2299089e-01],\n",
       "       [9.0077374e-05, 4.4622121e-04, 9.9938858e-01, 7.5017175e-05],\n",
       "       [4.5919076e-01, 3.0668882e-01, 1.8932121e-01, 4.4799156e-02],\n",
       "       [1.7866516e-01, 6.9549471e-01, 1.4786584e-03, 1.2436139e-01],\n",
       "       [2.6933247e-01, 7.0708460e-01, 3.0170695e-03, 2.0565847e-02],\n",
       "       [1.0892194e-03, 3.6945285e-03, 9.9448037e-01, 7.3587266e-04],\n",
       "       [2.9914364e-01, 6.8557382e-01, 1.5573934e-04, 1.5126702e-02]],\n",
       "      dtype=float32)"
      ]
     },
     "execution_count": 155,
     "metadata": {},
     "output_type": "execute_result"
    }
   ],
   "source": [
    "print(y_train1[111:120])# printing the labels\n",
    "# model.predict([X_train1[111:120],X_train2[111:120]]) # to use model.predict need to pass batches of data\n",
    "model.predict([X_train1[111:120],X_train2[111:120]])[0]# model.predict(x,x)[0] to get the first output\n",
    "model.predict([X_train1[111:120],X_train2[111:120]])[1]# model.predict(x,x)[1] to get the second output\n"
   ]
  },
  {
   "cell_type": "code",
   "execution_count": 149,
   "metadata": {},
   "outputs": [],
   "source": [
    "\n",
    "from sklearn.metrics import accuracy_score\n",
    "import glob"
   ]
  },
  {
   "cell_type": "code",
   "execution_count": 150,
   "metadata": {},
   "outputs": [
    {
     "name": "stdout",
     "output_type": "stream",
     "text": [
      "800\n",
      "800\n"
     ]
    }
   ],
   "source": [
    "# creating test data\n",
    "X1_test = []\n",
    "X2_test = []\n",
    "for image in Toyata.Image_Path[1500:1700]:\n",
    "    X1_test.append(image)\n",
    "for image in Suzuki.Image_Path[1500:1700]:\n",
    "    X1_test.append(image)\n",
    "for image in Bajaj.Image_Path[1500:1700]:\n",
    "    X1_test.append(image)\n",
    "for image in Honda.Image_Path[1500:1700]:\n",
    "    X1_test.append(image)\n",
    "for image in Toyata.Image_Path[3000:3200]:\n",
    "    X2_test.append(image)\n",
    "for image in Suzuki.Image_Path[3000:3200]:\n",
    "    X2_test.append(image)\n",
    "for image in Bajaj.Image_Path[3000:3200]:\n",
    "    X2_test.append(image)\n",
    "for image in Honda.Image_Path[3000:3200]:\n",
    "    X2_test.append(image)\n",
    "print(len(X1_test))\n",
    "print(len(X2_test))"
   ]
  },
  {
   "cell_type": "code",
   "execution_count": 151,
   "metadata": {},
   "outputs": [
    {
     "data": {
      "text/plain": [
       "800"
      ]
     },
     "execution_count": 151,
     "metadata": {},
     "output_type": "execute_result"
    }
   ],
   "source": [
    "# creating test data\n",
    "y1_test = []\n",
    "for brand in Toyata.Brand[1500:1700]:\n",
    "    y1_test.append(brand)\n",
    "for brand in Suzuki.Brand[1500:1700]:\n",
    "    y1_test.append(brand)\n",
    "for brand in Bajaj.Brand[1500:1700]:\n",
    "    y1_test.append(brand)\n",
    "for brand in Honda.Brand[1500:1700]:\n",
    "    y1_test.append(brand)\n",
    "len(y1_test)"
   ]
  },
  {
   "cell_type": "code",
   "execution_count": 152,
   "metadata": {},
   "outputs": [],
   "source": [
    "# creating the data for the \n",
    "!mkdir Softmax_training_data"
   ]
  },
  {
   "cell_type": "code",
   "execution_count": 157,
   "metadata": {},
   "outputs": [
    {
     "ename": "TypeError",
     "evalue": "'module' object is not callable",
     "output_type": "error",
     "traceback": [
      "\u001b[0;31m---------------------------------------------------------------------------\u001b[0m",
      "\u001b[0;31mTypeError\u001b[0m                                 Traceback (most recent call last)",
      "\u001b[0;32m<ipython-input-157-4414deff7129>\u001b[0m in \u001b[0;36m<module>\u001b[0;34m\u001b[0m\n\u001b[1;32m      1\u001b[0m \u001b[0mepochs\u001b[0m \u001b[0;34m=\u001b[0m \u001b[0;36m1\u001b[0m\u001b[0;34m\u001b[0m\u001b[0;34m\u001b[0m\u001b[0m\n\u001b[1;32m      2\u001b[0m \u001b[0;34m\u001b[0m\u001b[0m\n\u001b[0;32m----> 3\u001b[0;31m \u001b[0;32mfor\u001b[0m \u001b[0mepoch\u001b[0m \u001b[0;32min\u001b[0m \u001b[0mtqdm\u001b[0m\u001b[0;34m(\u001b[0m\u001b[0mrange\u001b[0m\u001b[0;34m(\u001b[0m\u001b[0mepochs\u001b[0m\u001b[0;34m)\u001b[0m\u001b[0;34m)\u001b[0m\u001b[0;34m:\u001b[0m\u001b[0;34m\u001b[0m\u001b[0;34m\u001b[0m\u001b[0m\n\u001b[0m\u001b[1;32m      4\u001b[0m \u001b[0;34m\u001b[0m\u001b[0m\n\u001b[1;32m      5\u001b[0m     \u001b[0mprint\u001b[0m\u001b[0;34m(\u001b[0m\u001b[0;34m\"epoch11:\"\u001b[0m\u001b[0;34m,\u001b[0m \u001b[0mepoch\u001b[0m\u001b[0;34m)\u001b[0m\u001b[0;34m\u001b[0m\u001b[0;34m\u001b[0m\u001b[0m\n",
      "\u001b[0;31mTypeError\u001b[0m: 'module' object is not callable"
     ]
    }
   ],
   "source": [
    "epochs = 5\n",
    "\n",
    "for epoch in range(epochs):\n",
    "\n",
    "    print(\"epoch11:\", epoch)\n",
    "    epoch_main = epoch\n",
    "\n",
    "    model = tf.keras.models.load_model('/Users/utkucicek/Desktop/vehicle images/saved_model') # give the path of the saved image\n",
    "\n",
    "\n",
    "    actual = []\n",
    "\n",
    "  # storing the images and their class in a dataframe\n",
    "    column_names =[\"x1_image\",\"x2_image\", \"main softmax\",\"branch softmax\",\"prediction_main\",\"prediction_branch\",\"true result\"]# use labels \n",
    "\n",
    "    test_data_result = pd.DataFrame(columns = column_names)\n",
    "        \n",
    "    prediction_images_1 =[]    \n",
    "    for i in range(len(X1_test)):\n",
    "        img = tf.keras.utils.load_img(X1_test[i], target_size=(64,64,3))\n",
    "        img = tf.keras.utils.img_to_array(img)\n",
    "        img = img/255\n",
    "        prediction_images_1.append(img)\n",
    "\n",
    "    prediction_images_2 =[]    \n",
    "    for i in range(len(X2_test)):\n",
    "        img = tf.keras.utils.load_img(X2_test[i], target_size=(64,64,3))\n",
    "        img = tf.keras.utils.img_to_array(img)\n",
    "        img = img/255\n",
    "        prediction_images_2.append(img)\n",
    "          \n",
    "    # converting all the frames for a test video into numpy array\n",
    "    prediction_images_np1 = np.array(prediction_images_1)\n",
    "    prediction_images_np2 = np.array(prediction_images_2)\n",
    "\n",
    "    # extracting features using pre-trained model\n",
    "    main_result = model.predict([prediction_images_np1,prediction_images_np2])[1] # second output\n",
    "    branch_result = model.predict([prediction_images_np1,prediction_images_np2])[0] # early exit\n",
    "\n",
    "    # class predictions\n",
    "    main_prediction_class = np.argmax(main_result,axis=1)  # returns 0,1,2,3\n",
    "    branch_prediction_class = np.argmax(branch_result,axis=1) # returns 0,1,2,3\n",
    "\n",
    "    test_data_tmp = pd.DataFrame()\n",
    "    test_data_tmp['x1_image'] = X1_test # x1_path\n",
    "    test_data_tmp['x2_image'] = X2_test # x2_path\n",
    "    test_data_tmp['main softmax'] = main_result.tolist() #predictions of the main output\n",
    "    test_data_tmp['branch softmax'] = branch_result.tolist() #predictions of the branch output\n",
    "    test_data_tmp['prediction_main'] = main_prediction_class #predictions of the main output corresponding to classes\n",
    "    test_data_tmp['prediction_branch'] = branch_prediction_class #predictions of the main output corresponding to classes\n",
    "    test_data_tmp['true result'] = y1_test # true labels\n",
    "    test_data_result = pd.concat([test_data_result, test_data_tmp]) # concating\n",
    "  # checking the accuracy of the predicted tags\n",
    "  # converting the dataframe into csv file \n",
    "    test_data_result.to_csv('/Users/utkucicek/Desktop/vehicle images/Softmax_training_data/results' + str(epoch_main)  +'.csv',header=True, index=False)\n",
    "\n"
   ]
  }
 ],
 "metadata": {
  "interpreter": {
   "hash": "aee8b7b246df8f9039afb4144a1f6fd8d2ca17a180786b69acc140d282b71a49"
  },
  "kernelspec": {
   "display_name": "Python 3.9.1 64-bit",
   "language": "python",
   "name": "python3"
  },
  "language_info": {
   "codemirror_mode": {
    "name": "ipython",
    "version": 3
   },
   "file_extension": ".py",
   "mimetype": "text/x-python",
   "name": "python",
   "nbconvert_exporter": "python",
   "pygments_lexer": "ipython3",
   "version": "3.9.1"
  },
  "orig_nbformat": 4
 },
 "nbformat": 4,
 "nbformat_minor": 2
}
